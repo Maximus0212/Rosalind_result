{
 "cells": [
  {
   "cell_type": "code",
   "execution_count": 202,
   "metadata": {},
   "outputs": [],
   "source": [
    "fasta_dict = {}\n",
    "header = None\n",
    "seq = \"\"\n",
    "\n",
    "seq_split = []\n",
    "\n",
    "with open(\"C:/Users/lab/Downloads/rosalind_orf.txt\", \"r\") as handle:\n",
    "    for line in handle:\n",
    "        line = line.rstrip()\n",
    "        if line.startswith(\">\"):\n",
    "            if header:\n",
    "                fasta_dict[header]=seq\n",
    "            header=line[1:]\n",
    "            fasta_dict[header]=\"\"\n",
    "            seq=\"\"\n",
    "        else:\n",
    "            seq += line\n",
    "        if header:\n",
    "            fasta_dict[header] = seq\n",
    "        "
   ]
  },
  {
   "cell_type": "code",
   "execution_count": 193,
   "metadata": {},
   "outputs": [
    {
     "name": "stdout",
     "output_type": "stream",
     "text": [
      "Rosalind_2659\n"
     ]
    }
   ],
   "source": [
    "print(header)"
   ]
  },
  {
   "cell_type": "code",
   "execution_count": 3,
   "metadata": {},
   "outputs": [],
   "source": [
    "DNA_reverse_complement = {\"A\":\"T\", \"T\":\"A\", \"C\":\"G\", \"G\":\"C\"}"
   ]
  },
  {
   "cell_type": "code",
   "execution_count": 4,
   "metadata": {},
   "outputs": [],
   "source": [
    "DNA_Codons = {\n",
    "    # 'M' - START, '_' - STOP\n",
    "    \"GCT\": \"A\", \"GCC\": \"A\", \"GCA\": \"A\", \"GCG\": \"A\",\n",
    "    \"TGT\": \"C\", \"TGC\": \"C\",\n",
    "    \"GAT\": \"D\", \"GAC\": \"D\",\n",
    "    \"GAA\": \"E\", \"GAG\": \"E\",\n",
    "    \"TTT\": \"F\", \"TTC\": \"F\",\n",
    "    \"GGT\": \"G\", \"GGC\": \"G\", \"GGA\": \"G\", \"GGG\": \"G\",\n",
    "    \"CAT\": \"H\", \"CAC\": \"H\",\n",
    "    \"ATA\": \"I\", \"ATT\": \"I\", \"ATC\": \"I\",\n",
    "    \"AAA\": \"K\", \"AAG\": \"K\",\n",
    "    \"TTA\": \"L\", \"TTG\": \"L\", \"CTT\": \"L\", \"CTC\": \"L\", \"CTA\": \"L\", \"CTG\": \"L\",\n",
    "    \"ATG\": \"M\",\n",
    "    \"AAT\": \"N\", \"AAC\": \"N\",\n",
    "    \"CCT\": \"P\", \"CCC\": \"P\", \"CCA\": \"P\", \"CCG\": \"P\",\n",
    "    \"CAA\": \"Q\", \"CAG\": \"Q\",\n",
    "    \"CGT\": \"R\", \"CGC\": \"R\", \"CGA\": \"R\", \"CGG\": \"R\", \"AGA\": \"R\", \"AGG\": \"R\",\n",
    "    \"TCT\": \"S\", \"TCC\": \"S\", \"TCA\": \"S\", \"TCG\": \"S\", \"AGT\": \"S\", \"AGC\": \"S\",\n",
    "    \"ACT\": \"T\", \"ACC\": \"T\", \"ACA\": \"T\", \"ACG\": \"T\",\n",
    "    \"GTT\": \"V\", \"GTC\": \"V\", \"GTA\": \"V\", \"GTG\": \"V\",\n",
    "    \"TGG\": \"W\",\n",
    "    \"TAT\": \"Y\", \"TAC\": \"Y\",\n",
    "    \"TAA\": \"_\", \"TAG\": \"_\", \"TGA\": \"_\"\n",
    "}"
   ]
  },
  {
   "cell_type": "code",
   "execution_count": 204,
   "metadata": {},
   "outputs": [
    {
     "name": "stdout",
     "output_type": "stream",
     "text": [
      "TKNCVYCC_ICHPVESRTADVSTTIPTIKA_RSQI_GFKFYVV_NFVYDFCCHEIMTSSYDVKYP_LLSRRKLLLHVTVSARPQTVRNGFTGPEPCLEMRRLPCIDQENNPPYNCAVLKEATNRVP_SRNYLEFSRASLCDVLDRDAIAMASLSKTSEVSTA_TSCALLCRIVRADY_TRHASIIDGSQGSNYAQYYL_MWTDT_LELARSCVICASNYPYVLLQLLAFFF_QDCLCVSISFVSAVLCEPYQPRS_IGPHFCLSRAHPEHSVFPLP_SMM_CVTSSTVALQ__RTS\n",
      "LRTVSTVAKFVIPSNREQQMFLQPYLRLKPKGVRYKGSSFTWCRISSMTSVATK__PRVMMLNTPNYCLGGSYCSMSLSPRDLKQ_EMGLQGQNPVSR_GAFLASTKRIIHLITALC_KKQLTAFRSPAITWNSRGPLSVMFWIGTP_LWRPYPKHLRSVPRELVALYCVVSCVQTTEPGTQVL_TEAKDPTMRNITCKCGLIRDSSWLEVASYVLLTIHTYCYNCSPSFSSRIVYACLSRS_AQCYANPINRGLELGPTFALAGLIRNTVYFHSLDP_CNV_LPVQWHYNNDVPV\n",
      "_ELCLLLLNLSSRRIENSRCFYNHTYD_SLKESDIRVQVLRGVEFRL_LLLPRNNDLEL_C_IPLTTV_EEAIAPCHCLRETSNSEKWVYRARTLSRDEAPSLHRPRE_STL_LRCVERSN_PRSVVPQLLGILEGLSL_CFG_GRHSYGVPIQNI_GQYRVN_LRSIVSYRACRLLNPARKYYRRKPRIQLCAILLVNVD_YVTRVG_KLRHMCF_LSIRIVTIARLLFLAGLFMRVYLVRKRSAMRTLSTEVLNWAPLLP_PGSSGTQCISTPLIHDVMCNFQYSGTTIMTYQC\n"
     ]
    }
   ],
   "source": [
    "Protein_list = \"\"\n",
    "for x in range(0,len(seq)-2,3):\n",
    "    Protein_list += ''.join(DNA_Codons[seq[x:x+3]])\n",
    "print(Protein_list)\n",
    "\n",
    "Protein_list_2 = \"\"\n",
    "for y in range(1,len(seq)-2,3):\n",
    "    Protein_list_2 += ''.join(DNA_Codons[seq[y:y+3]])\n",
    "print(Protein_list_2)\n",
    "\n",
    "Protein_list_3 = \"\"\n",
    "for z in range(2,len(seq)-2,3):\n",
    "    Protein_list_3 += ''.join(DNA_Codons[seq[z:z+3]])\n",
    "print(Protein_list_3)"
   ]
  },
  {
   "cell_type": "code",
   "execution_count": 205,
   "metadata": {},
   "outputs": [
    {
     "name": "stdout",
     "output_type": "stream",
     "text": [
      "TLVRHYCSATVLEVTHYIMDQGSGNTLCSG_ARLRQKWGPIQDLG__GSHSTALTNEIDTHKQSC_KKKASNCNNTYG_LEAHMTQLLANSSHVSVHIYK_YCA_LDPWLPSIILACRVQ_SARTIRHNRAQLVHAVLTSDVLDRDAIAMASLSKTSQREALENSK_LRDYGTRLVASFNTAQL_GGLFSWSMQGRRLISRQGSGPVNPFLTV_GLAETVTWSNSFLLDSS_GYLTS_LEVIISWQQKS_TKFYTT_NLNPYI_LL_ALIVGMVVETSAVLDSTG_QI_QQ_TQFL\n",
      "HWYVIIVVPLYWKLHITSWIKGVEIHCVPDEPG_GKSGAQFKTSVDRVRIALRLRTR_TRINNPARKRRRAIVTIRMDS_KHI_RNF_PTRVTYQSTFTSNIAHSWILGFRL_YLRAGFSSLHARYDTIERN_FTRY_PQMFWIGTP_LWRPYPKHHRERPSRIPSNCGTTERG_LLLSTQRSYKVDYSLGRCKEGASSRDRVLAL_THFSLFEVSRRQ_HGAIASS_TVVRGI_HHNSRSLFRGNRSHRRNSTPRKT_TLISDSFRL_S_VWL_KHLLFSIRRDDKFSNSRHSS_\n",
      "TGTSLL_CHCTGSYTLHHGSREWKYTVFRMSPAKAKVGPNSRPRLIGFA_HCAYERDRHA_TILLEKEGEQL_QYVWIVRSTYDATSSQLESRISPHLQVILRIVGSLASVYNTCVPGSVVCTHDTTQ_SATSSRGTDLRCFG_GRHSYGVPIQNITERGPREFQVIAGLRNAVSCFFQHSAVIRWIILLVDARKAPHLETGFWPCKPISHCLRSRGDSDMEQ_LPPRQ_LGVFNIITRGHYFVATEVIDEILHHVKLEPLYLTPLGFNRRYGCRNICCSRFDGMTNLATVDTVLS\n"
     ]
    }
   ],
   "source": [
    "# seq을 거꾸로 하나씩 읽으면서 상보서열로 바꾸기\n",
    "reverse_seq = \"\"\n",
    "for i in reversed(seq):\n",
    "    reverse_seq += ''.join(DNA_reverse_complement[i])\n",
    "\n",
    "Protein_list_reverse = \"\"\n",
    "for x in range(0,len(reverse_seq)-2,3):\n",
    "    Protein_list_reverse += ''.join(DNA_Codons[reverse_seq[x:x+3]])\n",
    "print(Protein_list_reverse)\n",
    "\n",
    "Protein_list_reverse_2 = \"\"\n",
    "for x in range(1,len(reverse_seq)-2,3):\n",
    "    Protein_list_reverse_2 += ''.join(DNA_Codons[reverse_seq[x:x+3]])\n",
    "print(Protein_list_reverse_2)\n",
    "\n",
    "Protein_list_reverse_3 = \"\"\n",
    "for x in range(2,len(reverse_seq)-2,3):\n",
    "    Protein_list_reverse_3 += ''.join(DNA_Codons[reverse_seq[x:x+3]])\n",
    "print(Protein_list_reverse_3)"
   ]
  },
  {
   "cell_type": "code",
   "execution_count": 206,
   "metadata": {},
   "outputs": [],
   "source": [
    "def find_possible_protein(protein_list):\n",
    "    start_site = []\n",
    "    stop_site = []\n",
    "\n",
    "    start_stop_dict = {\"start\": None, \"stop\":None}\n",
    "\n",
    "    for i in range(len(protein_list)):\n",
    "        if protein_list[i] == \"M\":\n",
    "            start_site.append(i)\n",
    "        if protein_list[i] == \"_\":\n",
    "            stop_site.append(i)\n",
    "    # print(start_site)\n",
    "    # print(stop_site)\n",
    "\n",
    "    Possible_protein = []\n",
    "    Possible_protein_real = []\n",
    "\n",
    "    for i in start_site:\n",
    "        for j in stop_site:\n",
    "            if i > j:\n",
    "                continue\n",
    "            else:\n",
    "                Possible_protein.append(protein_list[i:j])\n",
    "\n",
    "    for i in Possible_protein:\n",
    "        find_stop = i.find(\"_\")\n",
    "        if find_stop == -1:\n",
    "            Possible_protein_real.append(i)\n",
    "    return Possible_protein_real\n",
    "\n",
    "#print(Possible_protein)\n",
    "#print(Possible_protein_real)\n"
   ]
  },
  {
   "cell_type": "code",
   "execution_count": 207,
   "metadata": {},
   "outputs": [
    {
     "data": {
      "text/plain": [
       "['MSPAKAKVGPNSRPRLIGFA', 'MEQ']"
      ]
     },
     "execution_count": 207,
     "metadata": {},
     "output_type": "execute_result"
    }
   ],
   "source": [
    "find_possible_protein(Protein_list_reverse_3)"
   ]
  },
  {
   "cell_type": "code",
   "execution_count": 208,
   "metadata": {},
   "outputs": [],
   "source": [
    "list = [Protein_list, Protein_list_2, Protein_list_3, Protein_list_reverse, Protein_list_reverse_2, Protein_list_reverse_3]"
   ]
  },
  {
   "cell_type": "code",
   "execution_count": 209,
   "metadata": {},
   "outputs": [
    {
     "data": {
      "text/plain": [
       "['TKNCVYCC_ICHPVESRTADVSTTIPTIKA_RSQI_GFKFYVV_NFVYDFCCHEIMTSSYDVKYP_LLSRRKLLLHVTVSARPQTVRNGFTGPEPCLEMRRLPCIDQENNPPYNCAVLKEATNRVP_SRNYLEFSRASLCDVLDRDAIAMASLSKTSEVSTA_TSCALLCRIVRADY_TRHASIIDGSQGSNYAQYYL_MWTDT_LELARSCVICASNYPYVLLQLLAFFF_QDCLCVSISFVSAVLCEPYQPRS_IGPHFCLSRAHPEHSVFPLP_SMM_CVTSSTVALQ__RTS',\n",
       " 'LRTVSTVAKFVIPSNREQQMFLQPYLRLKPKGVRYKGSSFTWCRISSMTSVATK__PRVMMLNTPNYCLGGSYCSMSLSPRDLKQ_EMGLQGQNPVSR_GAFLASTKRIIHLITALC_KKQLTAFRSPAITWNSRGPLSVMFWIGTP_LWRPYPKHLRSVPRELVALYCVVSCVQTTEPGTQVL_TEAKDPTMRNITCKCGLIRDSSWLEVASYVLLTIHTYCYNCSPSFSSRIVYACLSRS_AQCYANPINRGLELGPTFALAGLIRNTVYFHSLDP_CNV_LPVQWHYNNDVPV',\n",
       " '_ELCLLLLNLSSRRIENSRCFYNHTYD_SLKESDIRVQVLRGVEFRL_LLLPRNNDLEL_C_IPLTTV_EEAIAPCHCLRETSNSEKWVYRARTLSRDEAPSLHRPRE_STL_LRCVERSN_PRSVVPQLLGILEGLSL_CFG_GRHSYGVPIQNI_GQYRVN_LRSIVSYRACRLLNPARKYYRRKPRIQLCAILLVNVD_YVTRVG_KLRHMCF_LSIRIVTIARLLFLAGLFMRVYLVRKRSAMRTLSTEVLNWAPLLP_PGSSGTQCISTPLIHDVMCNFQYSGTTIMTYQC',\n",
       " 'TLVRHYCSATVLEVTHYIMDQGSGNTLCSG_ARLRQKWGPIQDLG__GSHSTALTNEIDTHKQSC_KKKASNCNNTYG_LEAHMTQLLANSSHVSVHIYK_YCA_LDPWLPSIILACRVQ_SARTIRHNRAQLVHAVLTSDVLDRDAIAMASLSKTSQREALENSK_LRDYGTRLVASFNTAQL_GGLFSWSMQGRRLISRQGSGPVNPFLTV_GLAETVTWSNSFLLDSS_GYLTS_LEVIISWQQKS_TKFYTT_NLNPYI_LL_ALIVGMVVETSAVLDSTG_QI_QQ_TQFL',\n",
       " 'HWYVIIVVPLYWKLHITSWIKGVEIHCVPDEPG_GKSGAQFKTSVDRVRIALRLRTR_TRINNPARKRRRAIVTIRMDS_KHI_RNF_PTRVTYQSTFTSNIAHSWILGFRL_YLRAGFSSLHARYDTIERN_FTRY_PQMFWIGTP_LWRPYPKHHRERPSRIPSNCGTTERG_LLLSTQRSYKVDYSLGRCKEGASSRDRVLAL_THFSLFEVSRRQ_HGAIASS_TVVRGI_HHNSRSLFRGNRSHRRNSTPRKT_TLISDSFRL_S_VWL_KHLLFSIRRDDKFSNSRHSS_',\n",
       " 'TGTSLL_CHCTGSYTLHHGSREWKYTVFRMSPAKAKVGPNSRPRLIGFA_HCAYERDRHA_TILLEKEGEQL_QYVWIVRSTYDATSSQLESRISPHLQVILRIVGSLASVYNTCVPGSVVCTHDTTQ_SATSSRGTDLRCFG_GRHSYGVPIQNITERGPREFQVIAGLRNAVSCFFQHSAVIRWIILLVDARKAPHLETGFWPCKPISHCLRSRGDSDMEQ_LPPRQ_LGVFNIITRGHYFVATEVIDEILHHVKLEPLYLTPLGFNRRYGCRNICCSRFDGMTNLATVDTVLS']"
      ]
     },
     "execution_count": 209,
     "metadata": {},
     "output_type": "execute_result"
    }
   ],
   "source": [
    "list"
   ]
  },
  {
   "cell_type": "code",
   "execution_count": 210,
   "metadata": {},
   "outputs": [],
   "source": [
    "Possible_protein_final = []\n",
    "for i in list:\n",
    "    Possible_protein_final += find_possible_protein(i)\n",
    "Possible_protein_final = set(Possible_protein_final)\n",
    "# print(Possible_protein_final)"
   ]
  },
  {
   "cell_type": "code",
   "execution_count": 211,
   "metadata": {},
   "outputs": [
    {
     "name": "stdout",
     "output_type": "stream",
     "text": [
      "MWTDT\n",
      "MTSVATK\n",
      "MASLSKTSEVSTA\n",
      "MTQLLANSSHVSVHIYK\n",
      "MM\n",
      "MSLSPRDLKQ\n",
      "MRNITCKCGLIRDSSWLEVASYVLLTIHTYCYNCSPSFSSRIVYACLSRS\n",
      "MSPAKAKVGPNSRPRLIGFA\n",
      "M\n",
      "MCF\n",
      "MTSSYDVKYP\n",
      "MEQ\n",
      "MRVYLVRKRSAMRTLSTEVLNWAPLLP\n",
      "MDS\n",
      "MRRLPCIDQENNPPYNCAVLKEATNRVP\n",
      "MQGRRLISRQGSGPVNPFLTV\n",
      "MDQGSGNTLCSG\n",
      "MASLSKTSQREALENSK\n",
      "MFWIGTP\n",
      "MFLQPYLRLKPKGVRYKGSSFTWCRISSMTSVATK\n",
      "MVVETSAVLDSTG\n",
      "MMLNTPNYCLGGSYCSMSLSPRDLKQ\n",
      "MLNTPNYCLGGSYCSMSLSPRDLKQ\n",
      "MGLQGQNPVSR\n",
      "MRTLSTEVLNWAPLLP\n"
     ]
    }
   ],
   "source": [
    "for i in Possible_protein_final:\n",
    "    print(i)"
   ]
  },
  {
   "cell_type": "code",
   "execution_count": null,
   "metadata": {},
   "outputs": [],
   "source": []
  }
 ],
 "metadata": {
  "kernelspec": {
   "display_name": "Python 3",
   "language": "python",
   "name": "python3"
  },
  "language_info": {
   "codemirror_mode": {
    "name": "ipython",
    "version": 3
   },
   "file_extension": ".py",
   "mimetype": "text/x-python",
   "name": "python",
   "nbconvert_exporter": "python",
   "pygments_lexer": "ipython3",
   "version": "3.9.13"
  }
 },
 "nbformat": 4,
 "nbformat_minor": 2
}
