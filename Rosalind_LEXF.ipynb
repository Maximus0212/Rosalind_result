{
 "cells": [
  {
   "cell_type": "code",
   "execution_count": 1,
   "metadata": {},
   "outputs": [],
   "source": [
    "base = [\"A\", \"C\", \"G\", \"T\"]"
   ]
  },
  {
   "cell_type": "code",
   "execution_count": null,
   "metadata": {},
   "outputs": [],
   "source": [
    "# DNA 문자 종류\n",
    "#dna_bases = ['A', 'C', 'T', 'G']\n",
    "\n",
    "dna_bases = ['A', 'B', 'C', 'D', 'E', 'F', 'G', 'H']\n",
    "\n",
    "# 결과 리스트\n",
    "result_list = []\n",
    "\n",
    "# 2개씩 묶는 모든 경우의 수 계산\n",
    "for base1 in dna_bases:\n",
    "    for base2 in dna_bases:\n",
    "        for base3 in dna_bases:\n",
    "            result_list.append(base1 + base2 + base3)\n",
    "\n",
    "# 결과 출력\n",
    "print(f\"A, C, T, G를 2개씩 묶어서 만들 수 있는 모든 경우는 다음과 같습니다:\")\n",
    "for case in result_list:\n",
    "    print(case)"
   ]
  },
  {
   "cell_type": "code",
   "execution_count": null,
   "metadata": {},
   "outputs": [],
   "source": [
    "from itertools import combinations_with_replacement\n",
    "\n",
    "# DNA 문자 종류\n",
    "dna_bases = ['A', 'C', 'T', 'G']\n",
    "\n",
    "# 묶을 개수\n",
    "n = 2\n",
    "\n",
    "# 결과 리스트\n",
    "result_list = []\n",
    "\n",
    "# n개씩 묶는 모든 경우의 수 계산\n",
    "combinations_list = combinations_with_replacement(dna_bases, n)\n",
    "for case in combinations_list:\n",
    "    result_list.append(''.join(case))\n",
    "\n",
    "# 결과 출력\n",
    "for case in result_list:\n",
    "    print(case)"
   ]
  }
 ],
 "metadata": {
  "kernelspec": {
   "display_name": "Python 3",
   "language": "python",
   "name": "python3"
  },
  "language_info": {
   "codemirror_mode": {
    "name": "ipython",
    "version": 3
   },
   "file_extension": ".py",
   "mimetype": "text/x-python",
   "name": "python",
   "nbconvert_exporter": "python",
   "pygments_lexer": "ipython3",
   "version": "3.9.13"
  }
 },
 "nbformat": 4,
 "nbformat_minor": 2
}
